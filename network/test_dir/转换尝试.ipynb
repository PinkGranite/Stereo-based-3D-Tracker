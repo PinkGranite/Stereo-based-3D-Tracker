{
 "cells": [
  {
   "cell_type": "code",
   "execution_count": 1,
   "metadata": {},
   "outputs": [],
   "source": [
    "import torch\n",
    "import torch.nn as nn\n",
    "import torch.nn.functional as F"
   ]
  },
  {
   "cell_type": "code",
   "execution_count": 2,
   "metadata": {},
   "outputs": [],
   "source": [
    "conv = nn.Conv2d(3, 6, kernel_size=3, stride=1)"
   ]
  },
  {
   "cell_type": "code",
   "execution_count": 3,
   "metadata": {},
   "outputs": [
    {
     "data": {
      "text/plain": [
       "Conv2d(3, 6, kernel_size=(3, 3), stride=(1, 1))"
      ]
     },
     "execution_count": 3,
     "metadata": {},
     "output_type": "execute_result"
    }
   ],
   "source": [
    "conv"
   ]
  },
  {
   "cell_type": "code",
   "execution_count": 5,
   "metadata": {},
   "outputs": [
    {
     "data": {
      "text/plain": [
       "torch.nn.parameter.Parameter"
      ]
     },
     "execution_count": 5,
     "metadata": {},
     "output_type": "execute_result"
    }
   ],
   "source": [
    "type(conv.weight)"
   ]
  },
  {
   "cell_type": "code",
   "execution_count": 6,
   "metadata": {},
   "outputs": [
    {
     "data": {
      "text/plain": [
       "torch.Size([6, 3, 3, 3])"
      ]
     },
     "execution_count": 6,
     "metadata": {},
     "output_type": "execute_result"
    }
   ],
   "source": [
    "conv.weight.shape"
   ]
  },
  {
   "cell_type": "code",
   "execution_count": 24,
   "metadata": {
    "scrolled": true
   },
   "outputs": [
    {
     "data": {
      "text/plain": [
       "['T_destination',\n",
       " '__annotations__',\n",
       " '__call__',\n",
       " '__class__',\n",
       " '__constants__',\n",
       " '__delattr__',\n",
       " '__dict__',\n",
       " '__dir__',\n",
       " '__doc__',\n",
       " '__eq__',\n",
       " '__format__',\n",
       " '__ge__',\n",
       " '__getattr__',\n",
       " '__getattribute__',\n",
       " '__gt__',\n",
       " '__hash__',\n",
       " '__init__',\n",
       " '__init_subclass__',\n",
       " '__le__',\n",
       " '__lt__',\n",
       " '__module__',\n",
       " '__ne__',\n",
       " '__new__',\n",
       " '__reduce__',\n",
       " '__reduce_ex__',\n",
       " '__repr__',\n",
       " '__setattr__',\n",
       " '__setstate__',\n",
       " '__sizeof__',\n",
       " '__str__',\n",
       " '__subclasshook__',\n",
       " '__weakref__',\n",
       " '_apply',\n",
       " '_backward_hooks',\n",
       " '_buffers',\n",
       " '_call_impl',\n",
       " '_conv_forward',\n",
       " '_forward_hooks',\n",
       " '_forward_pre_hooks',\n",
       " '_forward_unimplemented',\n",
       " '_get_name',\n",
       " '_load_from_state_dict',\n",
       " '_load_state_dict_pre_hooks',\n",
       " '_modules',\n",
       " '_named_members',\n",
       " '_non_persistent_buffers_set',\n",
       " '_parameters',\n",
       " '_register_load_state_dict_pre_hook',\n",
       " '_register_state_dict_hook',\n",
       " '_replicate_for_data_parallel',\n",
       " '_reversed_padding_repeated_twice',\n",
       " '_save_to_state_dict',\n",
       " '_slow_forward',\n",
       " '_state_dict_hooks',\n",
       " '_version',\n",
       " 'add_module',\n",
       " 'apply',\n",
       " 'bfloat16',\n",
       " 'bias',\n",
       " 'buffers',\n",
       " 'children',\n",
       " 'cpu',\n",
       " 'cuda',\n",
       " 'dilation',\n",
       " 'double',\n",
       " 'dump_patches',\n",
       " 'eval',\n",
       " 'extra_repr',\n",
       " 'float',\n",
       " 'forward',\n",
       " 'groups',\n",
       " 'half',\n",
       " 'in_channels',\n",
       " 'kernel_size',\n",
       " 'load_state_dict',\n",
       " 'modules',\n",
       " 'named_buffers',\n",
       " 'named_children',\n",
       " 'named_modules',\n",
       " 'named_parameters',\n",
       " 'out_channels',\n",
       " 'output_padding',\n",
       " 'padding',\n",
       " 'padding_mode',\n",
       " 'parameters',\n",
       " 'register_backward_hook',\n",
       " 'register_buffer',\n",
       " 'register_forward_hook',\n",
       " 'register_forward_pre_hook',\n",
       " 'register_parameter',\n",
       " 'requires_grad_',\n",
       " 'reset_parameters',\n",
       " 'share_memory',\n",
       " 'state_dict',\n",
       " 'stride',\n",
       " 'to',\n",
       " 'train',\n",
       " 'training',\n",
       " 'transposed',\n",
       " 'type',\n",
       " 'weight',\n",
       " 'zero_grad']"
      ]
     },
     "execution_count": 24,
     "metadata": {},
     "output_type": "execute_result"
    }
   ],
   "source": [
    "dir(conv)"
   ]
  },
  {
   "cell_type": "code",
   "execution_count": 25,
   "metadata": {},
   "outputs": [
    {
     "data": {
      "text/plain": [
       "<bound method Module.modules of Conv2d(6, 6, kernel_size=(3, 3), stride=(1, 1))>"
      ]
     },
     "execution_count": 25,
     "metadata": {},
     "output_type": "execute_result"
    }
   ],
   "source": [
    "conv.modules"
   ]
  },
  {
   "cell_type": "code",
   "execution_count": 7,
   "metadata": {},
   "outputs": [],
   "source": [
    "conv.in_channels = 6"
   ]
  },
  {
   "cell_type": "code",
   "execution_count": 8,
   "metadata": {},
   "outputs": [
    {
     "data": {
      "text/plain": [
       "Conv2d(6, 6, kernel_size=(3, 3), stride=(1, 1))"
      ]
     },
     "execution_count": 8,
     "metadata": {},
     "output_type": "execute_result"
    }
   ],
   "source": [
    "conv"
   ]
  },
  {
   "cell_type": "code",
   "execution_count": 9,
   "metadata": {},
   "outputs": [
    {
     "data": {
      "text/plain": [
       "torch.Size([6, 3, 3, 3])"
      ]
     },
     "execution_count": 9,
     "metadata": {},
     "output_type": "execute_result"
    }
   ],
   "source": [
    "conv.weight.shape"
   ]
  },
  {
   "cell_type": "code",
   "execution_count": 15,
   "metadata": {},
   "outputs": [
    {
     "data": {
      "text/plain": [
       "OrderedDict([('weight',\n",
       "              tensor([[[[-0.1259, -0.0883, -0.0595],\n",
       "                        [ 0.0845, -0.1720, -0.1254],\n",
       "                        [-0.1868, -0.0146,  0.1396]],\n",
       "              \n",
       "                       [[-0.0842, -0.1135, -0.1615],\n",
       "                        [-0.1325, -0.0862,  0.0668],\n",
       "                        [-0.0995, -0.1079,  0.0064]],\n",
       "              \n",
       "                       [[-0.0963, -0.1566,  0.0198],\n",
       "                        [ 0.1502,  0.1778, -0.1087],\n",
       "                        [ 0.1826,  0.0534,  0.1886]]],\n",
       "              \n",
       "              \n",
       "                      [[[-0.1844,  0.0962, -0.0898],\n",
       "                        [-0.0196,  0.1880,  0.1312],\n",
       "                        [ 0.1897,  0.1479,  0.0883]],\n",
       "              \n",
       "                       [[ 0.0832, -0.0336,  0.1431],\n",
       "                        [-0.1145,  0.0460,  0.0582],\n",
       "                        [-0.1368,  0.1773,  0.0473]],\n",
       "              \n",
       "                       [[ 0.0754,  0.0137,  0.0919],\n",
       "                        [-0.0905, -0.1572,  0.1409],\n",
       "                        [-0.0156, -0.0270,  0.1769]]],\n",
       "              \n",
       "              \n",
       "                      [[[ 0.1195, -0.1274,  0.1089],\n",
       "                        [ 0.0004, -0.1166,  0.0377],\n",
       "                        [ 0.0853,  0.0409, -0.1455]],\n",
       "              \n",
       "                       [[ 0.1429,  0.1027, -0.0928],\n",
       "                        [-0.1897,  0.1209, -0.1415],\n",
       "                        [-0.1279, -0.0241,  0.1052]],\n",
       "              \n",
       "                       [[-0.1617,  0.0601, -0.0127],\n",
       "                        [ 0.0473, -0.0075, -0.0520],\n",
       "                        [ 0.1892,  0.1538,  0.0507]]],\n",
       "              \n",
       "              \n",
       "                      [[[ 0.0378,  0.0007, -0.1449],\n",
       "                        [ 0.0899,  0.0844,  0.0356],\n",
       "                        [-0.0230, -0.1612,  0.0857]],\n",
       "              \n",
       "                       [[ 0.1820,  0.1651,  0.0360],\n",
       "                        [-0.0857, -0.1306, -0.0819],\n",
       "                        [ 0.1332,  0.1088, -0.1472]],\n",
       "              \n",
       "                       [[ 0.0909,  0.1121,  0.0803],\n",
       "                        [-0.0917, -0.1020,  0.1798],\n",
       "                        [-0.1092, -0.1269,  0.0994]]],\n",
       "              \n",
       "              \n",
       "                      [[[ 0.1837,  0.0010, -0.1848],\n",
       "                        [ 0.1347, -0.1463, -0.0644],\n",
       "                        [-0.1605, -0.1009,  0.0356]],\n",
       "              \n",
       "                       [[ 0.0097,  0.0855, -0.1900],\n",
       "                        [ 0.1590,  0.1497,  0.1327],\n",
       "                        [-0.0839,  0.0213,  0.0461]],\n",
       "              \n",
       "                       [[-0.0729,  0.1483,  0.1332],\n",
       "                        [ 0.1348, -0.0763,  0.0907],\n",
       "                        [ 0.1053, -0.1821,  0.0891]]],\n",
       "              \n",
       "              \n",
       "                      [[[-0.1852, -0.0215, -0.0079],\n",
       "                        [ 0.0703,  0.1570,  0.1608],\n",
       "                        [ 0.1349, -0.1727, -0.0684]],\n",
       "              \n",
       "                       [[ 0.1030, -0.1166,  0.1116],\n",
       "                        [-0.1648,  0.0159, -0.0896],\n",
       "                        [ 0.0724, -0.1446, -0.0474]],\n",
       "              \n",
       "                       [[-0.0127,  0.1134,  0.0739],\n",
       "                        [-0.0817, -0.1059, -0.1673],\n",
       "                        [ 0.1622, -0.1519,  0.1498]]]])),\n",
       "             ('bias',\n",
       "              tensor([ 0.0013,  0.0215,  0.1666, -0.1132, -0.0897, -0.1483]))])"
      ]
     },
     "execution_count": 15,
     "metadata": {},
     "output_type": "execute_result"
    }
   ],
   "source": [
    "conv.state_dict()"
   ]
  },
  {
   "cell_type": "code",
   "execution_count": 11,
   "metadata": {},
   "outputs": [],
   "source": [
    "a = torch.cat((conv.weight, conv.weight), dim=1)"
   ]
  },
  {
   "cell_type": "code",
   "execution_count": 12,
   "metadata": {},
   "outputs": [
    {
     "data": {
      "text/plain": [
       "torch.Size([6, 6, 3, 3])"
      ]
     },
     "execution_count": 12,
     "metadata": {},
     "output_type": "execute_result"
    }
   ],
   "source": [
    "a.shape"
   ]
  },
  {
   "cell_type": "code",
   "execution_count": 21,
   "metadata": {},
   "outputs": [],
   "source": [
    "origin_state = conv.state_dict()"
   ]
  },
  {
   "cell_type": "code",
   "execution_count": 26,
   "metadata": {},
   "outputs": [],
   "source": [
    "b = nn.Conv2d(6, 6, kernel_size=3, stride=1)"
   ]
  },
  {
   "cell_type": "code",
   "execution_count": 27,
   "metadata": {},
   "outputs": [
    {
     "data": {
      "text/plain": [
       "<All keys matched successfully>"
      ]
     },
     "execution_count": 27,
     "metadata": {},
     "output_type": "execute_result"
    }
   ],
   "source": [
    "b.load_state_dict({'weight': a, 'bias':origin_state['bias']})"
   ]
  },
  {
   "cell_type": "code",
   "execution_count": 28,
   "metadata": {},
   "outputs": [],
   "source": [
    "conv = b"
   ]
  },
  {
   "cell_type": "code",
   "execution_count": 29,
   "metadata": {},
   "outputs": [
    {
     "data": {
      "text/plain": [
       "Conv2d(6, 6, kernel_size=(3, 3), stride=(1, 1))"
      ]
     },
     "execution_count": 29,
     "metadata": {},
     "output_type": "execute_result"
    }
   ],
   "source": [
    "conv"
   ]
  },
  {
   "cell_type": "code",
   "execution_count": 30,
   "metadata": {},
   "outputs": [
    {
     "data": {
      "text/plain": [
       "<bound method Module.state_dict of Conv2d(6, 6, kernel_size=(3, 3), stride=(1, 1))>"
      ]
     },
     "execution_count": 30,
     "metadata": {},
     "output_type": "execute_result"
    }
   ],
   "source": [
    "conv.state_dict"
   ]
  },
  {
   "cell_type": "code",
   "execution_count": 32,
   "metadata": {},
   "outputs": [
    {
     "data": {
      "text/plain": [
       "torch.Size([6, 6, 3, 3])"
      ]
     },
     "execution_count": 32,
     "metadata": {},
     "output_type": "execute_result"
    }
   ],
   "source": [
    "conv.weight.shape"
   ]
  },
  {
   "cell_type": "code",
   "execution_count": 33,
   "metadata": {},
   "outputs": [],
   "source": [
    "models = nn.Sequential(\n",
    "    nn.Conv2d(3, 6, kernel_size=3, stride=1),\n",
    "    nn.Conv2d(6, 6, kernel_size=3, stride=1)\n",
    ")"
   ]
  },
  {
   "cell_type": "code",
   "execution_count": 34,
   "metadata": {},
   "outputs": [
    {
     "data": {
      "text/plain": [
       "Sequential(\n",
       "  (0): Conv2d(3, 6, kernel_size=(3, 3), stride=(1, 1))\n",
       "  (1): Conv2d(6, 6, kernel_size=(3, 3), stride=(1, 1))\n",
       ")"
      ]
     },
     "execution_count": 34,
     "metadata": {},
     "output_type": "execute_result"
    }
   ],
   "source": [
    "models\n"
   ]
  },
  {
   "cell_type": "code",
   "execution_count": 36,
   "metadata": {},
   "outputs": [
    {
     "data": {
      "text/plain": [
       "method"
      ]
     },
     "execution_count": 36,
     "metadata": {},
     "output_type": "execute_result"
    }
   ],
   "source": [
    "type(models.modules)"
   ]
  },
  {
   "cell_type": "code",
   "execution_count": 38,
   "metadata": {},
   "outputs": [
    {
     "data": {
      "text/plain": [
       "Conv2d(3, 6, kernel_size=(3, 3), stride=(1, 1))"
      ]
     },
     "execution_count": 38,
     "metadata": {},
     "output_type": "execute_result"
    }
   ],
   "source": [
    "models[0]"
   ]
  },
  {
   "cell_type": "code",
   "execution_count": null,
   "metadata": {},
   "outputs": [],
   "source": [
    "models[0] = nn.Conv"
   ]
  }
 ],
 "metadata": {
  "kernelspec": {
   "display_name": "Python 3",
   "language": "python",
   "name": "python3"
  },
  "language_info": {
   "codemirror_mode": {
    "name": "ipython",
    "version": 3
   },
   "file_extension": ".py",
   "mimetype": "text/x-python",
   "name": "python",
   "nbconvert_exporter": "python",
   "pygments_lexer": "ipython3",
   "version": "3.7.6"
  }
 },
 "nbformat": 4,
 "nbformat_minor": 4
}
