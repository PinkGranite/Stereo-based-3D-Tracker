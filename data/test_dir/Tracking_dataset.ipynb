{
 "cells": [
  {
   "cell_type": "code",
   "execution_count": 3,
   "metadata": {},
   "outputs": [],
   "source": [
    "import numpy as np\n",
    "import os\n",
    "import sys\n",
    "import torch\n",
    "import torch.nn as nn\n",
    "import torch.utils.data as data\n",
    "import torch.functional as F\n",
    "import cv2\n",
    "import PIL.Image as Image\n",
    "import kitti_object_tracking\n",
    "import kitti_util_tracking\n",
    "from collections import namedtuple\n",
    "from image import *\n",
    "import math\n",
    "from torch.utils.data import DataLoader"
   ]
  },
  {
   "cell_type": "code",
   "execution_count": 4,
   "metadata": {},
   "outputs": [],
   "source": [
    "# 文件路径\n",
    "train_root = 'G:\\\\KITTI\\\\tracking'"
   ]
  },
  {
   "cell_type": "code",
   "execution_count": 5,
   "metadata": {},
   "outputs": [],
   "source": [
    "# 这里得到的kitti_object包含了整个训练集\n",
    "kitti_object = kitti_object_tracking.kitti_object_tracking(train_root, split='training')"
   ]
  },
  {
   "cell_type": "markdown",
   "metadata": {},
   "source": [
    "思考一下dataset中需要准备什么数据：\n",
    "\n",
    "- stereo图像：image_02与image_03 (check✔)\n",
    "- 图像的calibration (check✔)\n",
    "- 图像的labels (check✔)\n",
    "- 图像尺寸处理 (check✔)\n",
    "- 图像的heatmap（需要再生成✔）\n",
    "\n",
    "getitem只能接受index，那么如何实现跨sequence读取图片呢？(✔)\n",
    "如何将不同duration的图片划分为train set以及validation set呢？(✔)\n",
    "\n",
    "- Loss function如何组织？\n",
    "- 于此同时，dataset应该如何改进？\n",
    "- depth是否能够进一步改进？"
   ]
  },
  {
   "cell_type": "code",
   "execution_count": 6,
   "metadata": {},
   "outputs": [],
   "source": [
    "class tracking_dataset(data.Dataset):\n",
    "    # 只对三类目标进行追踪\n",
    "    num_categories = 3\n",
    "    # 输入图像的分辨率——为了适应网络结构\n",
    "    default_resolution = [384, 1280]\n",
    "    output_resolution = [96, 320]\n",
    "    class_name = ['Pedestrian', 'Car', 'Cyclist']\n",
    "    # ['Pedestrian', 'Car', 'Cyclist', 'Van', 'Truck',  'Person_sitting', 'Tram', 'Misc', 'DontCare']\n",
    "    # 这里的负值按照绝对值处理\n",
    "    # 7 8 9 忽略\n",
    "    cat_ids = {1: 1, 2: 2, 3: 3, 4: -2, 5: -2, 6: -1, 7: -9999, 8: -9999, 9: 0}\n",
    "    # 确定一帧图像的最大主体数量\n",
    "    max_objs = 50\n",
    "    def __init__(self, kitti_object, root_dir, ki, K, typ='train'):\n",
    "        \"\"\"\n",
    "            kiiti_object:kitti tracking 数据集对象\n",
    "            root_dir: 数据目录\n",
    "            ki: 第k折\n",
    "            K: 总折数\n",
    "            typ: 数据集类型，分为 train 以及 val\n",
    "        \"\"\"\n",
    "        self.duration_frames = [154, 447, 233, 144, 314, 297, 270, 800, 390, 803, 294, 373, 78, 340, 106, 376, 209, 145, 339, 1059, 837]\n",
    "        self.kitti_object = kitti_object\n",
    "        self.root_dir = root_dir\n",
    "        self.ki = ki\n",
    "        self.K = K\n",
    "        self.typ = typ\n",
    "        # 用于val的duration\n",
    "        self.val_durations = list(range(3*(ki-1), 3*ki))\n",
    "        # 用于train的duration\n",
    "        self.tra_durations = list(filter(lambda x: x not in self.val_durations, list(range(21))))\n",
    "        # 确定数据集长度\n",
    "        if typ=='train':\n",
    "            self.len = sum([self.duration_frames[x] for x in self.tra_durations])\n",
    "        else:\n",
    "            self.len = sum([self.duration_frames[x] for x in self.val_durations])\n",
    "        self.calibrations = {}\n",
    "        self.labelObjects = {}\n",
    "        \n",
    "    def __getitem__(self, index):\n",
    "        sequence, index = self.get_sqAndIdx(index)\n",
    "        image2, image3, calib, labels = self.get_inp(sequence, index)\n",
    "            \n",
    "        # -------------------------------------------------------------------------\n",
    "        height, width = image2.size[1], image2.size[0]  # 获得图像的尺寸\n",
    "        c = np.array([image2.size[1] / 2., image2.size[0] / 2.], dtype=np.float32)  # 中心点                \n",
    "        scale_width = self.default_resolution[1] / width # 计算从原始图像到网络输入图像的放缩因子\n",
    "        scale_height = self.default_resolution[0] / height \n",
    "        # img由Image读取，已经转换为RGB格式\n",
    "#         image2 = cv2.cvtColor(np.array(image2), cv2.COLOR_RGB2BGR)\n",
    "#         image3 = cv2.cvtColor(np.array(image3), cv2.COLOR_RGB2BGR)\n",
    "        image2 = np.array(image2)\n",
    "        image3 = np.array(image3)\n",
    "        image2 = cv2.resize(image2, (self.default_resolution[1], self.default_resolution[0]), interpolation=cv2.INTER_CUBIC)\n",
    "        image2 = image2.transpose(2, 0, 1)\n",
    "        image3 = cv2.resize(image3, (self.default_resolution[1], self.default_resolution[0]), interpolation=cv2.INTER_CUBIC)\n",
    "        image3 = image3.transpose(2, 0, 1)\n",
    "        ret = {'image2':image2, 'image3':image3}      \n",
    "        self._init_ret(ret)\n",
    "        num_objs = min(len(labels), self.max_objs)\n",
    "        # 计算由原始图像到最终输出map的放缩因子\n",
    "        scale_out = np.array((self.output_resolution[1] / width, self.output_resolution[0] / height), dtype = np.float32)\n",
    "        for i in range(num_objs):\n",
    "            cat_id = labels[i].type\n",
    "            if(cat_id > self.num_categories or cat_id < -999):\n",
    "                continue\n",
    "            cat_id = abs(cat_id)\n",
    "            ret['cat'][i] = cat_id\n",
    "            ret['mask'][i] = 1  # mask的作用是判断该位置是否是有效的\n",
    "            box_centerPoint = kitti_util_tracking.project_to_image(np.array(labels[i].t).reshape(1,3), calib.P)\n",
    "            box_centerPoint = np.array([box_centerPoint[0][0]*scale_out[0], box_centerPoint[0][1] * scale_out[1]], dtype=np.int64)\n",
    "            ret['ind'][i] = box_centerPoint[1] * self.output_resolution[1] + box_centerPoint[0]  \n",
    "            ret['dim'][i] = np.array([labels[i].h, labels[i].w, labels[i].l], dtype=np.float32)  # 将三维长宽高组织为一个array\n",
    "            ret['dim'][i] = 1\n",
    "            ret['dep'][i] = labels[i].t[2]\n",
    "            ret['dep'][i] = 1\n",
    "            \n",
    "            # 生成heatmap\n",
    "            box_2d = labels[i].box2d\n",
    "            h, w = box_2d[3]-box_2d[1], box_2d[2]-box_2d[0]  # 放缩前的h, w\n",
    "            h, w = h*scale_out[1], w*scale_out[0]  # 放缩后的h, w\n",
    "            radius = gaussian_radius((math.ceil(h), math.ceil(w)))\n",
    "            radius = max(0, int(radius))\n",
    "            # ct = np.array([(box_2d[2]-box_2d[0])/2, (box_2d[3]-box_2d[1])/2], dtype=np.float32)  # 原来的中心点\n",
    "            # ct = np.array([ct[0] * scale_out[0], ct[1] * scale_out[1]], dtype=np.float32)  # 放缩后的中心点\n",
    "            # ct_int = ct.astype(np.int32)\n",
    "            draw_umich_gaussian(ret['hm'][cat_id - 1], box_centerPoint, radius)\n",
    "            \n",
    "            # 填充方向rot, 参见centerNet, bin based\n",
    "            ret['rot_mask'][i] = 1\n",
    "            ry = labels[i].ry\n",
    "            if ry < np.pi / 6. or ry > 5 * np.pi / 6.:\n",
    "                ret['rotbin'][i, 0] = 1\n",
    "                ret['rotres'][i, 0] = ry - (-0.5 * np.pi)\n",
    "            if ry > -np.pi / 6. or ry < -5 * np.pi / 6.:\n",
    "                ret['rotbin'][i, 1] = 1\n",
    "                ret['rotres'][i, 1] = ry - (0.5 * np.pi)\n",
    "            \n",
    "        return ret\n",
    "        \n",
    "    def __len__(self):\n",
    "        return self.len\n",
    "    \n",
    "    def _init_ret(self, ret):\n",
    "        # 该方法提前为输入图像的各项输入提前确定数据结构\n",
    "        # 同时为GT生成空列表以待后面生成\n",
    "        # hm, reg, wh, tracking, dep, rot, dim, amodel_offset\n",
    "        ret['hm'] = np.zeros((self.num_categories, self.output_resolution[0], self.output_resolution[1]), np.float32)\n",
    "        ret['ind'] = np.zeros(self.max_objs, dtype=np.int64)\n",
    "        ret['cat'] = np.zeros(self.max_objs, dtype=np.int64)\n",
    "        ret['mask'] = np.zeros(self.max_objs, dtype=np.float32)\n",
    "        ret['dim'] = np.zeros((self.max_objs, 3), dtype=np.float32)\n",
    "        ret['dim_mask'] = np.zeros((self.max_objs, 3), dtype=np.float32)\n",
    "        ret['dep'] = np.zeros(self.max_objs, dtype=np.float32)\n",
    "        ret['dep_mask'] = np.zeros(self.max_objs, dtype=np.float32)\n",
    "        ret['rotbin'] = np.zeros((self.max_objs, 2), dtype=np.int64)\n",
    "        ret['rotres'] = np.zeros((self.max_objs, 2), dtype=np.float32)\n",
    "        ret['rot_mask'] = np.zeros((self.max_objs), dtype=np.float32)\n",
    "        \n",
    "    def get_sqAndIdx(self, index):\n",
    "        \"\"\"\n",
    "        计算当前图像的sequence以及index\n",
    "        \"\"\"\n",
    "        if(self.typ=='train'):\n",
    "            for x in self.tra_durations:\n",
    "                index -= self.duration_frames[x]\n",
    "                if(index<=0):\n",
    "                    index += self.duration_frames[x]\n",
    "                    sequence = x\n",
    "                    break\n",
    "        else:\n",
    "            for x in self.val_durations:\n",
    "                index -= self.duration_frames[x]\n",
    "                if(index<=0):\n",
    "                    index += self.duration_frames[x]\n",
    "                    sequence = x\n",
    "                    break\n",
    "        return sequence, index\n",
    "    \n",
    "    def get_inp(self, sequence, index):\n",
    "        # 获得左右图像\n",
    "        image2 = self.kitti_object.get_image2(sequence, index)\n",
    "        image3 = self.kitti_object.get_image3(sequence, index)\n",
    "        \n",
    "        # 获得calibration\n",
    "        if(sequence in self.calibrations.keys()):\n",
    "            calib = self.calibrations[sequence]\n",
    "        else:\n",
    "            calib = self.kitti_object.get_calibration(sequence)\n",
    "            self.calibrations[sequence] = calib\n",
    "        \n",
    "        # 获得labels\n",
    "        if(sequence in self.labelObjects.keys()):\n",
    "            labels = [x for x in self.labelObjects[sequence] if x.frame_idx==index]\n",
    "        else:\n",
    "            self.labelObjects[sequence] = self.kitti_object.get_label_objects(sequence)\n",
    "            labels = [x for x in self.labelObjects[sequence] if x.frame_idx==index]\n",
    "        \n",
    "        return image2, image3, calib, labels"
   ]
  },
  {
   "cell_type": "code",
   "execution_count": 7,
   "metadata": {},
   "outputs": [],
   "source": [
    "# 训练数据集\n",
    "train_dataset = tracking_dataset(kitti_object, root_dir=train_root, ki=1, K=7, typ='train')"
   ]
  },
  {
   "cell_type": "code",
   "execution_count": 8,
   "metadata": {},
   "outputs": [],
   "source": [
    "train_loader = DataLoader(train_dataset, batch_size=32)"
   ]
  },
  {
   "cell_type": "code",
   "execution_count": 13,
   "metadata": {},
   "outputs": [
    {
     "name": "stdout",
     "output_type": "stream",
     "text": [
      "torch.Size([32, 6, 384, 1280])\n"
     ]
    }
   ],
   "source": [
    "for idx, val in enumerate(train_loader):\n",
    "    image2 = val['image2']\n",
    "    image3 = val['image3']\n",
    "    stereo_img = torch.cat((image2, image3), dim=1)\n",
    "    print(stereo_img.shape)\n",
    "    break"
   ]
  },
  {
   "cell_type": "code",
   "execution_count": 10,
   "metadata": {},
   "outputs": [],
   "source": [
    "frame1 = train_dataset.__getitem__(15)"
   ]
  },
  {
   "cell_type": "code",
   "execution_count": 11,
   "metadata": {},
   "outputs": [
    {
     "data": {
      "text/plain": [
       "dict_keys(['image2', 'image3', 'hm', 'ind', 'cat', 'mask', 'dim', 'dim_mask', 'dep', 'dep_mask', 'rotbin', 'rotres', 'rot_mask'])"
      ]
     },
     "execution_count": 11,
     "metadata": {},
     "output_type": "execute_result"
    }
   ],
   "source": [
    "frame1.keys()"
   ]
  },
  {
   "cell_type": "code",
   "execution_count": 158,
   "metadata": {},
   "outputs": [],
   "source": [
    "image2 = frame1['image2']"
   ]
  },
  {
   "cell_type": "code",
   "execution_count": 159,
   "metadata": {},
   "outputs": [
    {
     "data": {
      "text/plain": [
       "(3, 384, 1280)"
      ]
     },
     "execution_count": 159,
     "metadata": {},
     "output_type": "execute_result"
    }
   ],
   "source": [
    "image2.shape\n",
    "# 放缩后的图像尺寸"
   ]
  },
  {
   "cell_type": "code",
   "execution_count": 160,
   "metadata": {},
   "outputs": [],
   "source": [
    "img = Image.fromarray(image2.transpose(1,2,0))"
   ]
  },
  {
   "cell_type": "code",
   "execution_count": 161,
   "metadata": {},
   "outputs": [],
   "source": [
    "img.show()"
   ]
  },
  {
   "cell_type": "code",
   "execution_count": 139,
   "metadata": {},
   "outputs": [],
   "source": [
    "hm = frame1['hm']  # heatmap"
   ]
  },
  {
   "cell_type": "code",
   "execution_count": 140,
   "metadata": {},
   "outputs": [
    {
     "data": {
      "text/plain": [
       "(3, 96, 320)"
      ]
     },
     "execution_count": 140,
     "metadata": {},
     "output_type": "execute_result"
    }
   ],
   "source": [
    "hm.shape"
   ]
  },
  {
   "cell_type": "code",
   "execution_count": 141,
   "metadata": {},
   "outputs": [],
   "source": [
    "heatmap = Image.fromarray(hm[1]*255)"
   ]
  },
  {
   "cell_type": "code",
   "execution_count": 142,
   "metadata": {},
   "outputs": [],
   "source": [
    "heatmap.show()"
   ]
  },
  {
   "cell_type": "code",
   "execution_count": 143,
   "metadata": {},
   "outputs": [],
   "source": [
    "# ind\n",
    "ind = frame1['ind']"
   ]
  },
  {
   "cell_type": "code",
   "execution_count": 144,
   "metadata": {
    "collapsed": true
   },
   "outputs": [
    {
     "data": {
      "text/plain": [
       "array([24223, 17327, 16698,     0,     0,     0,     0,     0,     0,\n",
       "           0,     0,     0,     0,     0,     0,     0,     0,     0,\n",
       "           0,     0,     0,     0,     0,     0,     0,     0,     0,\n",
       "           0,     0,     0,     0,     0,     0,     0,     0,     0,\n",
       "           0,     0,     0,     0,     0,     0,     0,     0,     0,\n",
       "           0,     0,     0,     0,     0], dtype=int64)"
      ]
     },
     "execution_count": 144,
     "metadata": {},
     "output_type": "execute_result"
    }
   ],
   "source": [
    "ind  # 只有三个目标"
   ]
  },
  {
   "cell_type": "code",
   "execution_count": 146,
   "metadata": {},
   "outputs": [],
   "source": [
    "# cat\n",
    "cat = frame1['cat']"
   ]
  },
  {
   "cell_type": "code",
   "execution_count": 148,
   "metadata": {
    "collapsed": true
   },
   "outputs": [
    {
     "data": {
      "text/plain": [
       "array([2, 2, 2, 0, 0, 0, 0, 0, 0, 0, 0, 0, 0, 0, 0, 0, 0, 0, 0, 0, 0, 0,\n",
       "       0, 0, 0, 0, 0, 0, 0, 0, 0, 0, 0, 0, 0, 0, 0, 0, 0, 0, 0, 0, 0, 0,\n",
       "       0, 0, 0, 0, 0, 0], dtype=int64)"
      ]
     },
     "execution_count": 148,
     "metadata": {},
     "output_type": "execute_result"
    }
   ],
   "source": [
    "cat  # 实体类别"
   ]
  },
  {
   "cell_type": "code",
   "execution_count": 149,
   "metadata": {},
   "outputs": [],
   "source": [
    "# dim, 长宽高\n",
    "dim = frame1['dim']"
   ]
  },
  {
   "cell_type": "code",
   "execution_count": 151,
   "metadata": {},
   "outputs": [],
   "source": [
    "# dep\n",
    "dep = frame1['dep']"
   ]
  },
  {
   "cell_type": "code",
   "execution_count": 152,
   "metadata": {
    "collapsed": true
   },
   "outputs": [
    {
     "data": {
      "text/plain": [
       "array([ 9.269818, 34.40579 , 38.607296,  0.      ,  0.      ,  0.      ,\n",
       "        0.      ,  0.      ,  0.      ,  0.      ,  0.      ,  0.      ,\n",
       "        0.      ,  0.      ,  0.      ,  0.      ,  0.      ,  0.      ,\n",
       "        0.      ,  0.      ,  0.      ,  0.      ,  0.      ,  0.      ,\n",
       "        0.      ,  0.      ,  0.      ,  0.      ,  0.      ,  0.      ,\n",
       "        0.      ,  0.      ,  0.      ,  0.      ,  0.      ,  0.      ,\n",
       "        0.      ,  0.      ,  0.      ,  0.      ,  0.      ,  0.      ,\n",
       "        0.      ,  0.      ,  0.      ,  0.      ,  0.      ,  0.      ,\n",
       "        0.      ,  0.      ], dtype=float32)"
      ]
     },
     "execution_count": 152,
     "metadata": {},
     "output_type": "execute_result"
    }
   ],
   "source": [
    "dep  # 某种程度上来说这个并不是真正的depth，但由于只需要进行链接，等效即可"
   ]
  },
  {
   "cell_type": "code",
   "execution_count": 14,
   "metadata": {},
   "outputs": [],
   "source": [
    "# rot\n",
    "# rotbin 判断该车的方向属于哪一个bin\n",
    "rotbin = frame1['rotbin']"
   ]
  },
  {
   "cell_type": "code",
   "execution_count": 20,
   "metadata": {
    "collapsed": true
   },
   "outputs": [
    {
     "data": {
      "text/plain": [
       "array([[1, 0],\n",
       "       [0, 1],\n",
       "       [0, 1],\n",
       "       [0, 0],\n",
       "       [0, 0],\n",
       "       [0, 0],\n",
       "       [0, 0],\n",
       "       [0, 0],\n",
       "       [0, 0],\n",
       "       [0, 0],\n",
       "       [0, 0],\n",
       "       [0, 0],\n",
       "       [0, 0],\n",
       "       [0, 0],\n",
       "       [0, 0],\n",
       "       [0, 0],\n",
       "       [0, 0],\n",
       "       [0, 0],\n",
       "       [0, 0],\n",
       "       [0, 0],\n",
       "       [0, 0],\n",
       "       [0, 0],\n",
       "       [0, 0],\n",
       "       [0, 0],\n",
       "       [0, 0],\n",
       "       [0, 0],\n",
       "       [0, 0],\n",
       "       [0, 0],\n",
       "       [0, 0],\n",
       "       [0, 0],\n",
       "       [0, 0],\n",
       "       [0, 0],\n",
       "       [0, 0],\n",
       "       [0, 0],\n",
       "       [0, 0],\n",
       "       [0, 0],\n",
       "       [0, 0],\n",
       "       [0, 0],\n",
       "       [0, 0],\n",
       "       [0, 0],\n",
       "       [0, 0],\n",
       "       [0, 0],\n",
       "       [0, 0],\n",
       "       [0, 0],\n",
       "       [0, 0],\n",
       "       [0, 0],\n",
       "       [0, 0],\n",
       "       [0, 0],\n",
       "       [0, 0],\n",
       "       [0, 0]], dtype=int64)"
      ]
     },
     "execution_count": 20,
     "metadata": {},
     "output_type": "execute_result"
    }
   ],
   "source": [
    "rotbin"
   ]
  },
  {
   "cell_type": "code",
   "execution_count": 18,
   "metadata": {},
   "outputs": [],
   "source": [
    "# rotres\n",
    "# rotres记录的是角度与该bin的中心的弧度差\n",
    "rotres = frame1['rotres']"
   ]
  },
  {
   "cell_type": "code",
   "execution_count": 21,
   "metadata": {
    "collapsed": true
   },
   "outputs": [
    {
     "data": {
      "text/plain": [
       "array([[-0.03889867,  0.        ],\n",
       "       [ 0.        , -0.02543833],\n",
       "       [ 0.        , -0.01674733],\n",
       "       [ 0.        ,  0.        ],\n",
       "       [ 0.        ,  0.        ],\n",
       "       [ 0.        ,  0.        ],\n",
       "       [ 0.        ,  0.        ],\n",
       "       [ 0.        ,  0.        ],\n",
       "       [ 0.        ,  0.        ],\n",
       "       [ 0.        ,  0.        ],\n",
       "       [ 0.        ,  0.        ],\n",
       "       [ 0.        ,  0.        ],\n",
       "       [ 0.        ,  0.        ],\n",
       "       [ 0.        ,  0.        ],\n",
       "       [ 0.        ,  0.        ],\n",
       "       [ 0.        ,  0.        ],\n",
       "       [ 0.        ,  0.        ],\n",
       "       [ 0.        ,  0.        ],\n",
       "       [ 0.        ,  0.        ],\n",
       "       [ 0.        ,  0.        ],\n",
       "       [ 0.        ,  0.        ],\n",
       "       [ 0.        ,  0.        ],\n",
       "       [ 0.        ,  0.        ],\n",
       "       [ 0.        ,  0.        ],\n",
       "       [ 0.        ,  0.        ],\n",
       "       [ 0.        ,  0.        ],\n",
       "       [ 0.        ,  0.        ],\n",
       "       [ 0.        ,  0.        ],\n",
       "       [ 0.        ,  0.        ],\n",
       "       [ 0.        ,  0.        ],\n",
       "       [ 0.        ,  0.        ],\n",
       "       [ 0.        ,  0.        ],\n",
       "       [ 0.        ,  0.        ],\n",
       "       [ 0.        ,  0.        ],\n",
       "       [ 0.        ,  0.        ],\n",
       "       [ 0.        ,  0.        ],\n",
       "       [ 0.        ,  0.        ],\n",
       "       [ 0.        ,  0.        ],\n",
       "       [ 0.        ,  0.        ],\n",
       "       [ 0.        ,  0.        ],\n",
       "       [ 0.        ,  0.        ],\n",
       "       [ 0.        ,  0.        ],\n",
       "       [ 0.        ,  0.        ],\n",
       "       [ 0.        ,  0.        ],\n",
       "       [ 0.        ,  0.        ],\n",
       "       [ 0.        ,  0.        ],\n",
       "       [ 0.        ,  0.        ],\n",
       "       [ 0.        ,  0.        ],\n",
       "       [ 0.        ,  0.        ],\n",
       "       [ 0.        ,  0.        ]], dtype=float32)"
      ]
     },
     "execution_count": 21,
     "metadata": {},
     "output_type": "execute_result"
    }
   ],
   "source": [
    "rotres"
   ]
  },
  {
   "cell_type": "code",
   "execution_count": null,
   "metadata": {},
   "outputs": [],
   "source": []
  }
 ],
 "metadata": {
  "kernelspec": {
   "display_name": "Python 3",
   "language": "python",
   "name": "python3"
  },
  "language_info": {
   "codemirror_mode": {
    "name": "ipython",
    "version": 3
   },
   "file_extension": ".py",
   "mimetype": "text/x-python",
   "name": "python",
   "nbconvert_exporter": "python",
   "pygments_lexer": "ipython3",
   "version": "3.7.6"
  }
 },
 "nbformat": 4,
 "nbformat_minor": 4
}
