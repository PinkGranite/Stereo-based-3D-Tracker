{
 "cells": [
  {
   "cell_type": "code",
   "execution_count": 1,
   "metadata": {},
   "outputs": [],
   "source": [
    "import numpy as np\n",
    "import torch\n",
    "import torch.nn as nn\n",
    "from image import *\n",
    "from kitti_util_tracking import *\n",
    "from kitti_object_tracking import *\n",
    "from Tracker import *\n",
    "from PIL import Image"
   ]
  },
  {
   "cell_type": "code",
   "execution_count": 2,
   "metadata": {},
   "outputs": [],
   "source": [
    "data_dir = 'G:\\\\KITTI\\\\tracking'"
   ]
  },
  {
   "cell_type": "code",
   "execution_count": 3,
   "metadata": {},
   "outputs": [],
   "source": [
    "kitti_object = kitti_object_tracking(data_dir)"
   ]
  },
  {
   "cell_type": "code",
   "execution_count": 4,
   "metadata": {},
   "outputs": [],
   "source": [
    "calib_object = kitti_object.get_calibration(0)"
   ]
  },
  {
   "cell_type": "code",
   "execution_count": 5,
   "metadata": {},
   "outputs": [],
   "source": [
    "label_object = kitti_object.get_label_objects(0)"
   ]
  },
  {
   "cell_type": "code",
   "execution_count": 6,
   "metadata": {},
   "outputs": [],
   "source": [
    "track = Track(maxObject=50, threshold=10)"
   ]
  },
  {
   "cell_type": "code",
   "execution_count": 7,
   "metadata": {},
   "outputs": [],
   "source": [
    "def dep_fusion(label_object):\n",
    "    margin = 10\n",
    "    interval_size = 30\n",
    "    dep = ((label_object.t[0]**2) + (label_object.t[1]**2) + (label_object.t[2]**2))**0.5\n",
    "    dep_sig = 1/(1+np.exp(-dep/10))\n",
    "    # degree\n",
    "    thita = np.arccos(label_object.t[0]/((label_object.t[0])**2 + (label_object.t[2])**2)**0.5)\n",
    "    n = int(thita/np.pi/6)\n",
    "    dep_fusion = dep_sig*interval_size + n*(margin+interval_size)\n",
    "    return dep_fusion"
   ]
  },
  {
   "cell_type": "code",
   "execution_count": 9,
   "metadata": {},
   "outputs": [],
   "source": [
    "size = (1242, 375)\n",
    "fourcc = cv2.VideoWriter_fourcc('D', 'I', 'V', 'X')\n",
    "output_path = './cat_devided.mp4'\n",
    "fps = 12\n",
    "writer = cv2.VideoWriter(output_path, fourcc, fps, size)\n",
    "frame_id = 0\n",
    "object_sum = 0\n",
    "while frame_id < 150:\n",
    "    frame_output = []\n",
    "    num = len([x for x in label_object if x.frame_idx==frame_id])\n",
    "    for i in range(object_sum, object_sum + num):\n",
    "        entity = {}\n",
    "#         entity['dep'] = ((label_object[i].t[0]**2) + (label_object[i].t[2]**2))**0.5\n",
    "        entity['dep'] = dep_fusion(label_object[i])\n",
    "        entity['center'] = label_object[i].t\n",
    "        entity['dim'] = np.array([label_object[i].h, label_object[i].w, label_object[i].l])\n",
    "        entity['ort'] = label_object[i].ry\n",
    "        entity['cat'] = abs(label_object[i].type)\n",
    "        frame_output.append(entity)\n",
    "    track.step(frame_output)\n",
    "    frame = kitti_object.get_image(0, frame_id)\n",
    "    for trackers in track.trackers:\n",
    "        boxes_3d = []\n",
    "        for tracker in trackers.values():\n",
    "            if tracker.life == 3:\n",
    "                boxes_3d.append(compute_box_3d_tracker(tracker, calib_object.P))\n",
    "        frame_trackers = list(trackers.values())\n",
    "        for x in range(len(boxes_3d)):\n",
    "            frame = draw_projected_box3d_label(frame, boxes_3d[x][0], frame_trackers[x])\n",
    "#     img = Image.fromarray(cv2.cvtColor(img_with_boundingBox, cv2.COLOR_BGR2RGB))\n",
    "#     img.show()\n",
    "    frame_id += 1\n",
    "    object_sum += num\n",
    "    writer.write(frame)\n",
    "writer.release()"
   ]
  },
  {
   "cell_type": "code",
   "execution_count": 10,
   "metadata": {},
   "outputs": [],
   "source": [
    "frame_output = []\n",
    "num = len([x for x in label_object if x.frame_idx==0])\n",
    "for i in range(num):\n",
    "    entity = {}\n",
    "    entity['dep'] = label_object[i].t[2]\n",
    "    entity['center'] = label_object[i].t\n",
    "    entity['dim'] = np.array([label_object[i].h, label_object[i].w, label_object[i].l])\n",
    "    entity['ort'] = label_object[i].ry\n",
    "    frame_output.append(entity)"
   ]
  },
  {
   "cell_type": "code",
   "execution_count": 11,
   "metadata": {},
   "outputs": [
    {
     "data": {
      "text/plain": [
       "[{'dep': 13.410495,\n",
       "  'center': (-4.552284, 1.858523, 13.410495),\n",
       "  'dim': array([2.      , 1.823255, 4.433886]),\n",
       "  'ort': -2.115488},\n",
       " {'dep': 5.776261,\n",
       "  'center': (1.6404, 1.67566, 5.776261),\n",
       "  'dim': array([1.739063, 0.824591, 1.785241]),\n",
       "  'ort': -1.675458},\n",
       " {'dep': 8.455685,\n",
       "  'center': (6.301919, 1.652419, 8.455685),\n",
       "  'dim': array([1.714062, 0.767881, 0.972283]),\n",
       "  'ort': -1.900245}]"
      ]
     },
     "execution_count": 11,
     "metadata": {},
     "output_type": "execute_result"
    }
   ],
   "source": [
    "frame_output"
   ]
  },
  {
   "cell_type": "code",
   "execution_count": 12,
   "metadata": {},
   "outputs": [],
   "source": [
    "track.step(frame_output)"
   ]
  },
  {
   "cell_type": "code",
   "execution_count": 13,
   "metadata": {},
   "outputs": [
    {
     "data": {
      "text/plain": [
       "{13.410495: <Tracker.Tracker at 0x20b2d1f0908>,\n",
       " 5.776261: <Tracker.Tracker at 0x20b2d1f0388>,\n",
       " 8.455685: <Tracker.Tracker at 0x20b2d1f0108>}"
      ]
     },
     "execution_count": 13,
     "metadata": {},
     "output_type": "execute_result"
    }
   ],
   "source": [
    "track.trackers"
   ]
  },
  {
   "cell_type": "code",
   "execution_count": 14,
   "metadata": {},
   "outputs": [],
   "source": [
    "boxes_3d = []\n",
    "for tracker in track.trackers.values():\n",
    "    boxes_3d.append(compute_box_3d_tracker(tracker, calib_object.P))\n",
    "pre_frame = kitti_object.get_image(0, 0)\n",
    "frame_trackers = list(track.trackers.values())\n",
    "for x in range(len(boxes_3d)):\n",
    "    img_with_boundingBox = draw_projected_box3d_label(pre_frame, boxes_3d[x][0], frame_trackers[x])\n",
    "img = Image.fromarray(cv2.cvtColor(img_with_boundingBox, cv2.COLOR_BGR2RGB))\n",
    "img.show()"
   ]
  },
  {
   "cell_type": "code",
   "execution_count": 15,
   "metadata": {},
   "outputs": [],
   "source": [
    "now_output = []\n",
    "num2 = len([x for x in label_object if x.frame_idx==1])\n",
    "for i in range(num, num+num2):\n",
    "    entity = {}\n",
    "    entity['dep'] = label_object[i].t[2]\n",
    "    entity['center'] = label_object[i].t\n",
    "    entity['dim'] = np.array([label_object[i].h, label_object[i].w, label_object[i].l])\n",
    "    entity['ort'] = label_object[i].ry\n",
    "    now_output.append(entity)"
   ]
  },
  {
   "cell_type": "code",
   "execution_count": 16,
   "metadata": {},
   "outputs": [
    {
     "data": {
      "text/plain": [
       "[{'dep': 13.581085,\n",
       "  'center': (-4.650955, 1.766774, 13.581085),\n",
       "  'dim': array([2.      , 1.823255, 4.433886]),\n",
       "  'ort': -2.121565},\n",
       " {'dep': 5.778596,\n",
       "  'center': (1.70064, 1.640419, 5.778596),\n",
       "  'dim': array([1.739063, 0.824591, 1.785241]),\n",
       "  'ort': -1.664456},\n",
       " {'dep': 8.156156,\n",
       "  'center': (6.352093, 1.593046, 8.156156),\n",
       "  'dim': array([1.714062, 0.767881, 0.972283]),\n",
       "  'ort': -1.88684}]"
      ]
     },
     "execution_count": 16,
     "metadata": {},
     "output_type": "execute_result"
    }
   ],
   "source": [
    "now_output"
   ]
  },
  {
   "cell_type": "code",
   "execution_count": 18,
   "metadata": {},
   "outputs": [],
   "source": [
    "track.step(now_output)"
   ]
  },
  {
   "cell_type": "code",
   "execution_count": 19,
   "metadata": {},
   "outputs": [
    {
     "data": {
      "text/plain": [
       "{5.778596: <Tracker.Tracker at 0x168aae5fe08>,\n",
       " 8.156156: <Tracker.Tracker at 0x168aae5f888>,\n",
       " 13.581085: <Tracker.Tracker at 0x168aae5ffc8>}"
      ]
     },
     "execution_count": 19,
     "metadata": {},
     "output_type": "execute_result"
    }
   ],
   "source": [
    "track.trackers"
   ]
  },
  {
   "cell_type": "code",
   "execution_count": 17,
   "metadata": {},
   "outputs": [
    {
     "name": "stdout",
     "output_type": "stream",
     "text": [
      "id:46, dep:5.778596, dim:[1.739063,0.824591,1.785241]\n",
      "id:42, dep:8.156156, dim:[1.714062,0.767881,0.972283]\n"
     ]
    }
   ],
   "source": [
    "print(tracker.trackers[5.778596])\n",
    "print(tracker.trackers[8.156156])"
   ]
  },
  {
   "cell_type": "code",
   "execution_count": 23,
   "metadata": {},
   "outputs": [],
   "source": [
    "boxes_3d = []\n",
    "for tracker in track.trackers.values():\n",
    "    boxes_3d.append(compute_box_3d_tracker(tracker, calib_object.P))\n",
    "pre_frame = kitti_object.get_image(0, 0)\n",
    "frame_trackers = list(track.trackers.values())\n",
    "for x in range(len(boxes_3d)):\n",
    "    img_with_boundingBox = draw_projected_box3d_label(pre_frame, boxes_3d[x][0], frame_trackers[x])\n",
    "img = Image.fromarray(cv2.cvtColor(img_with_boundingBox, cv2.COLOR_BGR2RGB))\n",
    "img.show()"
   ]
  },
  {
   "cell_type": "code",
   "execution_count": 25,
   "metadata": {},
   "outputs": [],
   "source": [
    "now_output = []\n",
    "num2 = len([x for x in label_object if x.frame_idx==2])\n",
    "for i in range(num, num+num2):\n",
    "    entity = {}\n",
    "    entity['dep'] = label_object[i].t[2]\n",
    "    entity['center'] = label_object[i].t\n",
    "    entity['dim'] = np.array([label_object[i].h, label_object[i].w, label_object[i].l])\n",
    "    entity['ort'] = label_object[i].ry\n",
    "    now_output.append(entity)\n",
    "track.step(now_output)\n",
    "boxes_3d = []\n",
    "for tracker in track.trackers.values():\n",
    "    boxes_3d.append(compute_box_3d_tracker(tracker, calib_object.P))\n",
    "pre_frame = kitti_object.get_image(0, 0)\n",
    "frame_trackers = list(track.trackers.values())\n",
    "for x in range(len(boxes_3d)):\n",
    "    img_with_boundingBox = draw_projected_box3d_label(pre_frame, boxes_3d[x][0], frame_trackers[x])\n",
    "img = Image.fromarray(cv2.cvtColor(img_with_boundingBox, cv2.COLOR_BGR2RGB))\n",
    "img.show()"
   ]
  },
  {
   "cell_type": "code",
   "execution_count": null,
   "metadata": {},
   "outputs": [],
   "source": []
  }
 ],
 "metadata": {
  "kernelspec": {
   "display_name": "Python 3",
   "language": "python",
   "name": "python3"
  },
  "language_info": {
   "codemirror_mode": {
    "name": "ipython",
    "version": 3
   },
   "file_extension": ".py",
   "mimetype": "text/x-python",
   "name": "python",
   "nbconvert_exporter": "python",
   "pygments_lexer": "ipython3",
   "version": "3.7.6"
  }
 },
 "nbformat": 4,
 "nbformat_minor": 4
}
